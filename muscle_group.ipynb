{
 "cells": [
  {
   "cell_type": "code",
   "execution_count": 5,
   "metadata": {},
   "outputs": [],
   "source": [
    "from openai import OpenAI\n",
    "import pandas as pd\n",
    "import json"
   ]
  },
  {
   "cell_type": "code",
   "execution_count": 11,
   "metadata": {},
   "outputs": [],
   "source": [
    "client = OpenAI()"
   ]
  },
  {
   "cell_type": "code",
   "execution_count": 4,
   "metadata": {},
   "outputs": [],
   "source": [
    "get_muscle = \"\"\"\n",
    "You are a professional exercise physiologist, expertise in workout knowledge and human body muscle groups. \\\n",
    "Let's proceed step by step. \\\n",
    "Kindly furnish a list listing every possible muscle groups involved. \\\n",
    "Organize the list from large to small, based on the provided equipment. \\\n",
    "Please conclude the file with the marker [end]. \\\n",
    "For example,\n",
    "Muscle Group:\n",
    "Hamstrings\n",
    "Gluteus Maximus\n",
    "Erector Spinae\n",
    "Gastrocnemius\n",
    "Soleus\n",
    "Adductor Magnus\n",
    "Semimembranosus\n",
    "Semitendinosus\n",
    "Biceps Femoris\n",
    "Popliteus\n",
    "Gracilis\n",
    "[end]\n",
    "\n",
    "Now, given equipment\n",
    "\n",
    "\"\"\""
   ]
  },
  {
   "cell_type": "code",
   "execution_count": 30,
   "metadata": {},
   "outputs": [],
   "source": [
    "def chat(prompt, topic):\n",
    "    completion = client.chat.completions.create(\n",
    "        model=\"gpt-3.5-turbo\",\n",
    "        messages=[\n",
    "            {\"role\": \"user\", \"content\":f\"\"\"{prompt}{topic}.\"\"\"}\n",
    "          ]\n",
    "    )\n",
    "    return completion.choices[0].message.content\n"
   ]
  },
  {
   "cell_type": "markdown",
   "metadata": {},
   "source": [
    "## Get muscle groups using ChatGPT"
   ]
  },
  {
   "cell_type": "code",
   "execution_count": 87,
   "metadata": {},
   "outputs": [],
   "source": [
    "test = chat(get_muscle, \"leg curl\")"
   ]
  },
  {
   "cell_type": "code",
   "execution_count": 89,
   "metadata": {},
   "outputs": [
    {
     "data": {
      "text/plain": [
       "'Muscle Group:\\nHamstrings\\nBiceps Femoris\\nSemimembranosus\\nSemitendinosus\\nGracilis\\nAdductor Magnus\\nPopliteus\\nGastrocnemius\\nSoleus\\nGluteus Maximus\\nErector Spinae\\n[end]'"
      ]
     },
     "execution_count": 89,
     "metadata": {},
     "output_type": "execute_result"
    }
   ],
   "source": [
    "test"
   ]
  },
  {
   "cell_type": "code",
   "execution_count": 91,
   "metadata": {},
   "outputs": [
    {
     "data": {
      "text/plain": [
       "['Muscle Group:',\n",
       " 'Hamstrings',\n",
       " 'Biceps Femoris',\n",
       " 'Semimembranosus',\n",
       " 'Semitendinosus',\n",
       " 'Gracilis',\n",
       " 'Adductor Magnus',\n",
       " 'Popliteus',\n",
       " 'Gastrocnemius',\n",
       " 'Soleus',\n",
       " 'Gluteus Maximus',\n",
       " 'Erector Spinae',\n",
       " '[end]']"
      ]
     },
     "execution_count": 91,
     "metadata": {},
     "output_type": "execute_result"
    }
   ],
   "source": [
    "sp = test.split(\"\\n\")\n",
    "sp"
   ]
  },
  {
   "cell_type": "code",
   "execution_count": 6,
   "metadata": {},
   "outputs": [],
   "source": [
    "equipment = pd.read_csv(\"equipment.csv\")"
   ]
  },
  {
   "cell_type": "code",
   "execution_count": 7,
   "metadata": {},
   "outputs": [
    {
     "data": {
      "text/html": [
       "<div>\n",
       "<style scoped>\n",
       "    .dataframe tbody tr th:only-of-type {\n",
       "        vertical-align: middle;\n",
       "    }\n",
       "\n",
       "    .dataframe tbody tr th {\n",
       "        vertical-align: top;\n",
       "    }\n",
       "\n",
       "    .dataframe thead th {\n",
       "        text-align: right;\n",
       "    }\n",
       "</style>\n",
       "<table border=\"1\" class=\"dataframe\">\n",
       "  <thead>\n",
       "    <tr style=\"text-align: right;\">\n",
       "      <th></th>\n",
       "      <th>id</th>\n",
       "      <th>equipment</th>\n",
       "      <th>number</th>\n",
       "      <th>capacity</th>\n",
       "      <th>muscle_groups</th>\n",
       "      <th>remark</th>\n",
       "    </tr>\n",
       "  </thead>\n",
       "  <tbody>\n",
       "    <tr>\n",
       "      <th>0</th>\n",
       "      <td>0</td>\n",
       "      <td>treadmill</td>\n",
       "      <td>9</td>\n",
       "      <td>1</td>\n",
       "      <td>NaN</td>\n",
       "      <td>NaN</td>\n",
       "    </tr>\n",
       "    <tr>\n",
       "      <th>1</th>\n",
       "      <td>1</td>\n",
       "      <td>rowing machine</td>\n",
       "      <td>4</td>\n",
       "      <td>1</td>\n",
       "      <td>NaN</td>\n",
       "      <td>NaN</td>\n",
       "    </tr>\n",
       "    <tr>\n",
       "      <th>2</th>\n",
       "      <td>2</td>\n",
       "      <td>upright bike</td>\n",
       "      <td>2</td>\n",
       "      <td>1</td>\n",
       "      <td>NaN</td>\n",
       "      <td>NaN</td>\n",
       "    </tr>\n",
       "    <tr>\n",
       "      <th>3</th>\n",
       "      <td>3</td>\n",
       "      <td>elliptical machine</td>\n",
       "      <td>3</td>\n",
       "      <td>1</td>\n",
       "      <td>NaN</td>\n",
       "      <td>NaN</td>\n",
       "    </tr>\n",
       "    <tr>\n",
       "      <th>4</th>\n",
       "      <td>4</td>\n",
       "      <td>bench</td>\n",
       "      <td>7</td>\n",
       "      <td>1</td>\n",
       "      <td>NaN</td>\n",
       "      <td>NaN</td>\n",
       "    </tr>\n",
       "  </tbody>\n",
       "</table>\n",
       "</div>"
      ],
      "text/plain": [
       "   id           equipment  number  capacity  muscle_groups remark\n",
       "0   0           treadmill       9         1            NaN    NaN\n",
       "1   1      rowing machine       4         1            NaN    NaN\n",
       "2   2        upright bike       2         1            NaN    NaN\n",
       "3   3  elliptical machine       3         1            NaN    NaN\n",
       "4   4               bench       7         1            NaN    NaN"
      ]
     },
     "execution_count": 7,
     "metadata": {},
     "output_type": "execute_result"
    }
   ],
   "source": [
    "equipment.head()"
   ]
  },
  {
   "cell_type": "code",
   "execution_count": 8,
   "metadata": {},
   "outputs": [],
   "source": [
    "muscle_groups = []"
   ]
  },
  {
   "cell_type": "markdown",
   "metadata": {},
   "source": [
    "```{python}\n",
    "# count = 0\n",
    "for item in equipment.loc[:, 'equipment']:\n",
    "  # if count < 5:\n",
    "    muscle_groups.append(getMuscleGroup(item))\n",
    "    # count += 1\n",
    "```"
   ]
  },
  {
   "cell_type": "markdown",
   "metadata": {},
   "source": [
    "```{python}\n",
    "with open(\"data/muscle_groups_ori.txt\", \"w\") as f:\n",
    "  for t in muscle_groups:\n",
    "    f.write(f\"{t}\\n\")\n",
    "```"
   ]
  },
  {
   "cell_type": "code",
   "execution_count": null,
   "metadata": {},
   "outputs": [],
   "source": [
    "muscle_groups"
   ]
  },
  {
   "cell_type": "markdown",
   "metadata": {},
   "source": [
    "# Data Processing"
   ]
  },
  {
   "cell_type": "markdown",
   "metadata": {},
   "source": [
    "### Counting\n",
    "Count the number of all muscle groups and translate the names into Traditional Chinese."
   ]
  },
  {
   "cell_type": "code",
   "execution_count": 52,
   "metadata": {},
   "outputs": [],
   "source": [
    "muscle_groups_all = []\n",
    "muscle_dict = dict()\n",
    "for i in range(len(muscle_groups)):\n",
    "  # num_split = 0\n",
    "  # num_group = 0\n",
    "  muscles = []\n",
    "  # print(i)\n",
    "  for muscle in muscle_groups[i].split(\"\\n\"):\n",
    "    # num_split += 1\n",
    "    if not (muscle.startswith(\"Muscle Group\") or muscle == ''):\n",
    "      if muscle == \"[end]\":\n",
    "        # print(f\"END:DDD, {muscle}\")\n",
    "        break\n",
    "      # num_group += 1\n",
    "      if muscle.split(\". \")[0].isdigit():\n",
    "        muscle = muscle.split(\". \")[1]\n",
    "      elif muscle.startswith(\"- \"):\n",
    "        muscle = muscle.split(\"- \")[1]\n",
    "      # print(muscle)\n",
    "      muscles.append(muscle)\n",
    "      muscle_groups_all.append(muscle)\n",
    "  muscle_dict[i] = muscles"
   ]
  },
  {
   "cell_type": "code",
   "execution_count": 53,
   "metadata": {},
   "outputs": [
    {
     "data": {
      "text/plain": [
       "485"
      ]
     },
     "execution_count": 53,
     "metadata": {},
     "output_type": "execute_result"
    }
   ],
   "source": [
    "len(muscle_groups_all)"
   ]
  },
  {
   "cell_type": "markdown",
   "metadata": {},
   "source": [
    "```{python}\n",
    "# Convert and write JSON object to file\n",
    "with open(\"data/muscle_dict.json\", \"w\") as outfile:\n",
    "    json.dump(muscle_dict, outfile)\n",
    "```"
   ]
  },
  {
   "cell_type": "code",
   "execution_count": 122,
   "metadata": {},
   "outputs": [],
   "source": [
    "with open(\"data/muscle_dict.json\", \"r\") as f:\n",
    "  muscle_dict = json.load(f)"
   ]
  },
  {
   "cell_type": "code",
   "execution_count": null,
   "metadata": {},
   "outputs": [],
   "source": [
    "muscle_dict"
   ]
  },
  {
   "cell_type": "code",
   "execution_count": 131,
   "metadata": {},
   "outputs": [],
   "source": [
    "# flatten the lists and get unique items\n",
    "unique_items = list(set(item for sublist in muscle_dict.values() for item in sublist))"
   ]
  },
  {
   "cell_type": "code",
   "execution_count": 133,
   "metadata": {},
   "outputs": [],
   "source": [
    "unique_items.sort()"
   ]
  },
  {
   "cell_type": "code",
   "execution_count": 134,
   "metadata": {},
   "outputs": [
    {
     "data": {
      "text/plain": [
       "['Adductor Brevis',\n",
       " 'Adductor Longus',\n",
       " 'Adductor Magnus',\n",
       " 'Anconeus',\n",
       " 'Anterior Deltoid',\n",
       " 'Anterior Deltoids (Front shoulder)',\n",
       " 'Biceps',\n",
       " 'Biceps Brachii',\n",
       " 'Biceps Femoris',\n",
       " 'Biceps brachii',\n",
       " 'Brachialis',\n",
       " 'Brachioradialis',\n",
       " 'Calf Muscles',\n",
       " 'Calves',\n",
       " 'Calves (Gastrocnemius and Soleus)',\n",
       " 'Calves (Gastrocnemius, Soleus)',\n",
       " 'Coracobrachialis',\n",
       " 'Deltoid',\n",
       " 'Deltoids',\n",
       " 'Deltoids (Anterior, Lateral, and Posterior)',\n",
       " 'Deltoids (Anterior, Middle, Posterior)',\n",
       " 'Deltoids (Posterior)',\n",
       " 'Deltoids (Rear)',\n",
       " 'Erector Spinae',\n",
       " 'Erector Spinae (Spinalis)',\n",
       " 'Extensor Digitorum Longus',\n",
       " 'Extensor Hallucis Longus',\n",
       " 'External Obliques',\n",
       " 'Flexor Digitorum Longus',\n",
       " 'Flexor Hallucis Longus',\n",
       " 'Forearm muscles (Flexors and Extensors)',\n",
       " 'Gastrocnemius',\n",
       " 'Gastrocnemius (Lateral head)',\n",
       " 'Gastrocnemius (Medial head)',\n",
       " 'Gluteus Maximus',\n",
       " 'Gluteus Medius',\n",
       " 'Gluteus Minimus',\n",
       " 'Gracilis',\n",
       " 'Hamstrings',\n",
       " 'Hamstrings (Biceps Femoris, Semitendinosus, Semimembranosus)',\n",
       " 'Hip Abductors',\n",
       " 'Hip Adductors',\n",
       " 'Hip Flexors',\n",
       " 'Iliopsoas',\n",
       " 'Infraspinatus',\n",
       " 'Internal Obliques',\n",
       " 'Internal and External Intercostals',\n",
       " 'Internal and External Obliques',\n",
       " 'Lateral Deltoid',\n",
       " 'Latissimus Dorsi',\n",
       " 'Levator Scapulae',\n",
       " 'Lower Back (Erector Spinae)',\n",
       " 'Medial Deltoid',\n",
       " 'Middle and Lower Trapezius',\n",
       " 'Obliques',\n",
       " 'Pectoralis Major',\n",
       " 'Pectoralis Major (Clavicular Head)',\n",
       " 'Pectoralis Major (Sternal Head)',\n",
       " 'Pectoralis Major (Upper chest)',\n",
       " 'Pectoralis Minor',\n",
       " 'Peroneals',\n",
       " 'Peroneus Brevis',\n",
       " 'Peroneus Longus',\n",
       " 'Peroneus Tertius',\n",
       " 'Plantaris',\n",
       " 'Popliteus',\n",
       " 'Posterior Deltoid',\n",
       " 'Quadratus Lumborum',\n",
       " 'Quadriceps',\n",
       " 'Quadriceps (Rectus Femoris, Vastus Lateralis, Vastus Medialis, Vastus Intermedius)',\n",
       " 'Rear Deltoids',\n",
       " 'Rectus Abdominis',\n",
       " 'Rectus Femoris',\n",
       " 'Rhomboid Major',\n",
       " 'Rhomboid Minor',\n",
       " 'Rhomboideus',\n",
       " 'Rhomboids',\n",
       " 'Sartorius',\n",
       " 'Semimembranosus',\n",
       " 'Semitendinosus',\n",
       " 'Serratus Anterior',\n",
       " 'Serratus Anterior (Upper side of ribs)',\n",
       " 'Soleus',\n",
       " 'Subscapularis',\n",
       " 'Supraspinatus',\n",
       " 'Tensor Fasciae Latae',\n",
       " 'Teres Major',\n",
       " 'Teres Minor',\n",
       " 'Terres Major',\n",
       " 'Tibialis Anterior',\n",
       " 'Transverse Abdominis',\n",
       " 'Transversus Abdominis',\n",
       " 'Trapezius',\n",
       " 'Trapezius (Middle and Lower)',\n",
       " 'Trapezius (lower fibers)',\n",
       " 'Trapezius (middle and lower fibers)',\n",
       " 'Triceps',\n",
       " 'Triceps Brachii',\n",
       " 'Triceps Brachii (Back of upper arm)',\n",
       " 'Triceps Brachii (Long Head)',\n",
       " 'Vastus Intermedius',\n",
       " 'Vastus Lateralis',\n",
       " 'Vastus Medialis']"
      ]
     },
     "execution_count": 134,
     "metadata": {},
     "output_type": "execute_result"
    }
   ],
   "source": [
    "unique_items"
   ]
  },
  {
   "cell_type": "markdown",
   "metadata": {},
   "source": [
    "| Original | Replaced |\n",
    "| --- | --- |\n",
    "| Anterior Deltoid | Anterior Deltoids (Front shoulder) |\n",
    "| Biceps | Biceps Brachii |\n",
    "| Biceps brachii | Biceps Brachii |\n",
    "| Calves | Calves (Gastrocnemius and Soleus) |\n",
    "| Calves (Gastrocnemius, Soleus) | Calves (Gastrocnemius and Soleus) |\n",
    "| Deltoid | Deltoids (Anterior, Lateral, and Posterior) |\n",
    "| Deltoids | Deltoids (Anterior, Lateral, and Posterior)\n",
    "| Deltoids (Anterior, Middle, Posterior) | Deltoids (Anterior, Lateral, and Posterior) |\n",
    "| Hamstrings | Hamstrings (Biceps Femoris, Semitendinosus, Semimembranosus) |\n",
    "| Rear Deltoids | Posterior Deltoid |\n",
    "| Deltoids (Posterior) | Posterior Deltoid |\n",
    "| Deltoids (Rear) | Posterior Deltoid |\n",
    "| Medial Deltoid | Lateral Deltoid |\n",
    "| Pectoralis Major (Upper chest) | Pectoralis Major (Clavicular Head) |\n",
    "| Serratus Anterior | Serratus Anterior (Upper side of ribs) |\n",
    "| Terres Major | Teres Major |\n",
    "| Transversus Abdominis | Transverse Abdominis |\n",
    "| Triceps | Triceps Brachii (Back of upper arm) |\n",
    "| Triceps Brachii | Triceps Brachii (Back of upper arm) |\n",
    "| Trapezius (Middle and Lower) | Trapezius (middle and lower fibers) |\n",
    "| Quadriceps | Quadriceps (Rectus Femoris, Vastus Lateralis, Vastus Medialis, Vastus Intermedius) |\n",
    "| Rhomboideus | Rhomboids |"
   ]
  },
  {
   "cell_type": "markdown",
   "metadata": {},
   "source": [
    "### Replacement"
   ]
  },
  {
   "cell_type": "code",
   "execution_count": 184,
   "metadata": {},
   "outputs": [],
   "source": [
    "muscle_dict_rep = muscle_dict.copy()"
   ]
  },
  {
   "cell_type": "code",
   "execution_count": 185,
   "metadata": {},
   "outputs": [],
   "source": [
    "# replacement table\n",
    "replacement_table = {\n",
    "    'Anterior Deltoid': 'Anterior Deltoids (Front shoulder)',\n",
    "    'Biceps': 'Biceps Brachii',\n",
    "    'Biceps brachii': 'Biceps Brachii',\n",
    "    'Calves': 'Calves (Gastrocnemius and Soleus)',\n",
    "    'Calves (Gastrocnemius, Soleus)': 'Calves (Gastrocnemius and Soleus)',\n",
    "    'Deltoid': 'Deltoids (Anterior, Lateral, and Posterior)',\n",
    "    'Deltoids': 'Deltoids (Anterior, Lateral, and Posterior)',\n",
    "    'Deltoids (Anterior, Middle, Posterior)': 'Deltoids (Anterior, Lateral, and Posterior)',\n",
    "    'Hamstrings': 'Hamstrings (Biceps Femoris, Semitendinosus, Semimembranosus)',\n",
    "    'Rear Deltoids': 'Posterior Deltoid',\n",
    "    'Deltoids (Posterior)': 'Posterior Deltoid',\n",
    "    'Deltoids (Rear)': 'Posterior Deltoid',\n",
    "    'Medial Deltoid': 'Lateral Deltoid',\n",
    "    'Pectoralis Major (Upper chest)': 'Pectoralis Major (Clavicular Head)',\n",
    "    'Serratus Anterior': 'Serratus Anterior (Upper side of ribs)',\n",
    "    'Terres Major': 'Teres Major',\n",
    "    'Transversus Abdominis': 'Transverse Abdominis',\n",
    "    'Triceps': 'Triceps Brachii (Back of upper arm)',\n",
    "    'Triceps Brachii': 'Triceps Brachii (Back of upper arm)',\n",
    "    'Trapezius (Middle and Lower)': 'Trapezius (middle and lower fibers)',\n",
    "    'Quadriceps': 'Quadriceps (Rectus Femoris, Vastus Lateralis, Vastus Medialis, Vastus Intermedius)',\n",
    "    'Rhomboideus': 'Rhomboids'\n",
    "}\n",
    "\n",
    "# function to replace values in a list using a mapping\n",
    "def replaceValues(muscle_list, replacement_mapping):\n",
    "    rep = [replacement_mapping.get(muscle, muscle) for muscle in muscle_list]\n",
    "    return rep\n",
    "    # return [print(replacement_mapping.get(muscle, muscle)) for muscle in muscle_list]\n",
    "\n",
    "# Apply the replacement to each list in the dictionary\n",
    "for key, muscles in muscle_dict_rep.items():\n",
    "    # print(key)\n",
    "    muscle_dict_rep[key] = replaceValues(muscles, replacement_table)"
   ]
  },
  {
   "cell_type": "code",
   "execution_count": null,
   "metadata": {},
   "outputs": [],
   "source": [
    "muscle_dict_rep"
   ]
  },
  {
   "cell_type": "code",
   "execution_count": 186,
   "metadata": {},
   "outputs": [],
   "source": [
    "\n",
    "# Convert and write JSON object to file\n",
    "with open(\"data/muscle_dict_rep.json\", \"w\") as outfile:\n",
    "    json.dump(muscle_dict_rep, outfile)\n"
   ]
  },
  {
   "cell_type": "code",
   "execution_count": 144,
   "metadata": {},
   "outputs": [],
   "source": [
    "with open(\"data/muscle_dict_rep.json\", \"r\") as f:\n",
    "  muscle_dict_rep = json.load(f)"
   ]
  },
  {
   "cell_type": "code",
   "execution_count": 187,
   "metadata": {},
   "outputs": [],
   "source": [
    "unique_items = list(set(item for sublist in muscle_dict_rep.values() for item in sublist))\n",
    "unique_items.sort()"
   ]
  },
  {
   "cell_type": "code",
   "execution_count": 197,
   "metadata": {},
   "outputs": [
    {
     "data": {
      "text/plain": [
       "81"
      ]
     },
     "execution_count": 197,
     "metadata": {},
     "output_type": "execute_result"
    }
   ],
   "source": [
    "len(unique_items)"
   ]
  },
  {
   "cell_type": "code",
   "execution_count": 188,
   "metadata": {},
   "outputs": [
    {
     "data": {
      "text/plain": [
       "['Adductor Brevis',\n",
       " 'Adductor Longus',\n",
       " 'Adductor Magnus',\n",
       " 'Anconeus',\n",
       " 'Anterior Deltoids (Front shoulder)',\n",
       " 'Biceps Brachii',\n",
       " 'Biceps Femoris',\n",
       " 'Brachialis',\n",
       " 'Brachioradialis',\n",
       " 'Calf Muscles',\n",
       " 'Calves (Gastrocnemius and Soleus)',\n",
       " 'Coracobrachialis',\n",
       " 'Deltoids (Anterior, Lateral, and Posterior)',\n",
       " 'Erector Spinae',\n",
       " 'Erector Spinae (Spinalis)',\n",
       " 'Extensor Digitorum Longus',\n",
       " 'Extensor Hallucis Longus',\n",
       " 'External Obliques',\n",
       " 'Flexor Digitorum Longus',\n",
       " 'Flexor Hallucis Longus',\n",
       " 'Forearm muscles (Flexors and Extensors)',\n",
       " 'Gastrocnemius',\n",
       " 'Gastrocnemius (Lateral head)',\n",
       " 'Gastrocnemius (Medial head)',\n",
       " 'Gluteus Maximus',\n",
       " 'Gluteus Medius',\n",
       " 'Gluteus Minimus',\n",
       " 'Gracilis',\n",
       " 'Hamstrings (Biceps Femoris, Semitendinosus, Semimembranosus)',\n",
       " 'Hip Abductors',\n",
       " 'Hip Adductors',\n",
       " 'Hip Flexors',\n",
       " 'Iliopsoas',\n",
       " 'Infraspinatus',\n",
       " 'Internal Obliques',\n",
       " 'Internal and External Intercostals',\n",
       " 'Internal and External Obliques',\n",
       " 'Lateral Deltoid',\n",
       " 'Latissimus Dorsi',\n",
       " 'Levator Scapulae',\n",
       " 'Lower Back (Erector Spinae)',\n",
       " 'Middle and Lower Trapezius',\n",
       " 'Obliques',\n",
       " 'Pectoralis Major',\n",
       " 'Pectoralis Major (Clavicular Head)',\n",
       " 'Pectoralis Major (Sternal Head)',\n",
       " 'Pectoralis Minor',\n",
       " 'Peroneals',\n",
       " 'Peroneus Brevis',\n",
       " 'Peroneus Longus',\n",
       " 'Peroneus Tertius',\n",
       " 'Plantaris',\n",
       " 'Popliteus',\n",
       " 'Posterior Deltoid',\n",
       " 'Quadratus Lumborum',\n",
       " 'Quadriceps (Rectus Femoris, Vastus Lateralis, Vastus Medialis, Vastus Intermedius)',\n",
       " 'Rectus Abdominis',\n",
       " 'Rectus Femoris',\n",
       " 'Rhomboid Major',\n",
       " 'Rhomboid Minor',\n",
       " 'Rhomboids',\n",
       " 'Sartorius',\n",
       " 'Semimembranosus',\n",
       " 'Semitendinosus',\n",
       " 'Serratus Anterior (Upper side of ribs)',\n",
       " 'Soleus',\n",
       " 'Subscapularis',\n",
       " 'Supraspinatus',\n",
       " 'Tensor Fasciae Latae',\n",
       " 'Teres Major',\n",
       " 'Teres Minor',\n",
       " 'Tibialis Anterior',\n",
       " 'Transverse Abdominis',\n",
       " 'Trapezius',\n",
       " 'Trapezius (lower fibers)',\n",
       " 'Trapezius (middle and lower fibers)',\n",
       " 'Triceps Brachii (Back of upper arm)',\n",
       " 'Triceps Brachii (Long Head)',\n",
       " 'Vastus Intermedius',\n",
       " 'Vastus Lateralis',\n",
       " 'Vastus Medialis']"
      ]
     },
     "execution_count": 188,
     "metadata": {},
     "output_type": "execute_result"
    }
   ],
   "source": [
    "unique_items"
   ]
  },
  {
   "cell_type": "markdown",
   "metadata": {},
   "source": [
    "### Adding"
   ]
  },
  {
   "cell_type": "code",
   "execution_count": 182,
   "metadata": {},
   "outputs": [],
   "source": [
    "# muscle_dict_rep_add = muscle_dict_rep.copy()"
   ]
  },
  {
   "cell_type": "code",
   "execution_count": 183,
   "metadata": {},
   "outputs": [],
   "source": [
    "\"\"\"# adding table\n",
    "add_table = {\n",
    "    'Hamstrings (Biceps Femoris, Semitendinosus, Semimembranosus)': 'Hamstrings',\n",
    "    'Pectoralis Major (Clavicular Head)': 'Pectoralis Major',\n",
    "    'Pectoralis Major (Sternal Head)': 'Pectoralis Major',\n",
    "    'Pectoralis Major (Upper chest)': 'Pectoralis Major',\n",
    "    'Quadriceps (Rectus Femoris, Vastus Lateralis, Vastus Medialis, Vastus Intermedius)': 'Quadriceps',\n",
    "    'Rhomboids': 'Rhomboideus',\n",
    "    'Rhomboideus': 'Rhomboids',\n",
    "    'Serratus Anterior (Upper side of ribs)': 'Serratus Anterior',\n",
    "    'Trapezius (Middle and Lower)': 'Trapezius',\n",
    "    'Trapezius (lower fibers)': 'Trapezius',\n",
    "    'Trapezius (middle and lower fibers)': 'Trapezius',\n",
    "    'Triceps Brachii (Back of upper arm)': 'Triceps Brachii',\n",
    "    'Triceps Brachii (Long Head)': 'Triceps Brachii',\n",
    "}\n",
    "\n",
    "# update values in a list using a mapping\n",
    "for key, muscles in muscle_dict_rep_add.items():\n",
    "    # print(key)\n",
    "    add_list = []\n",
    "    for muscle in muscles:\n",
    "        add = add_table.get(muscle)\n",
    "        if add is not None:\n",
    "            add_list.append(add)\n",
    "    # print(add_list)\n",
    "    if add_list != []:\n",
    "        muscle_dict_rep_add[key] += add_list\"\"\""
   ]
  },
  {
   "cell_type": "code",
   "execution_count": null,
   "metadata": {},
   "outputs": [],
   "source": [
    "# muscle_dict_rep_add"
   ]
  },
  {
   "cell_type": "code",
   "execution_count": null,
   "metadata": {},
   "outputs": [],
   "source": [
    "# Convert and write JSON object to file\n",
    "# with open(\"data/muscle_dict_rep_add.json\", \"w\") as outfile:\n",
    "#     json.dump(muscle_dict_rep_add, outfile)"
   ]
  },
  {
   "cell_type": "code",
   "execution_count": 6,
   "metadata": {},
   "outputs": [],
   "source": [
    "# with open(\"data/muscle_dict_rep_add.json\", \"r\") as f:\n",
    "#   muscle_dict_rep_add = json.load(f)"
   ]
  },
  {
   "cell_type": "code",
   "execution_count": 21,
   "metadata": {},
   "outputs": [],
   "source": [
    "# flatten the lists and get unique items\n",
    "# unique_items = list(set(item for sublist in muscle_dict_rep_add.values() for item in sublist))"
   ]
  },
  {
   "cell_type": "code",
   "execution_count": null,
   "metadata": {},
   "outputs": [],
   "source": [
    "# unique_items"
   ]
  },
  {
   "cell_type": "code",
   "execution_count": null,
   "metadata": {},
   "outputs": [],
   "source": [
    "# len(unique_items)"
   ]
  },
  {
   "cell_type": "markdown",
   "metadata": {},
   "source": [
    "### Categorization"
   ]
  },
  {
   "cell_type": "code",
   "execution_count": 192,
   "metadata": {},
   "outputs": [],
   "source": [
    "categorize =\"\"\"\n",
    "You are a professional exercise physiologist, expertise in workout knowledge and human body muscle groups. \\\n",
    "Given 6 categories: arm, abdominal, shoulder, chest, back, and leg. \\\n",
    "Provide the category only. \\\n",
    "Example 1:\n",
    "Rhomboid Minor\n",
    "Back\n",
    "\n",
    "Example 2:\n",
    "Anterior Deltoids\n",
    "Shoulder\n",
    "\n",
    "Now, Categorize the following human muscle group:\n",
    "\"\"\""
   ]
  },
  {
   "cell_type": "code",
   "execution_count": 193,
   "metadata": {},
   "outputs": [],
   "source": [
    "test = chat(categorize, unique_items[0])"
   ]
  },
  {
   "cell_type": "code",
   "execution_count": 194,
   "metadata": {},
   "outputs": [
    {
     "data": {
      "text/plain": [
       "'Leg'"
      ]
     },
     "execution_count": 194,
     "metadata": {},
     "output_type": "execute_result"
    }
   ],
   "source": [
    "test"
   ]
  },
  {
   "cell_type": "code",
   "execution_count": 195,
   "metadata": {},
   "outputs": [],
   "source": [
    "category = dict()\n",
    "count = 0\n",
    "for name in unique_items:\n",
    "  # if count < 5:\n",
    "    category[name] = chat(categorize, name)\n",
    "    # count += 1"
   ]
  },
  {
   "cell_type": "code",
   "execution_count": 196,
   "metadata": {},
   "outputs": [
    {
     "data": {
      "text/plain": [
       "{'Adductor Brevis': 'Leg',\n",
       " 'Adductor Longus': 'Leg',\n",
       " 'Adductor Magnus': 'Leg',\n",
       " 'Anconeus': 'Arm',\n",
       " 'Anterior Deltoids (Front shoulder)': 'Shoulder',\n",
       " 'Biceps Brachii': 'Arm',\n",
       " 'Biceps Femoris': 'Leg',\n",
       " 'Brachialis': 'Arm',\n",
       " 'Brachioradialis': 'Arm',\n",
       " 'Calf Muscles': 'Leg',\n",
       " 'Calves (Gastrocnemius and Soleus)': 'Leg',\n",
       " 'Coracobrachialis': 'Arm',\n",
       " 'Deltoids (Anterior, Lateral, and Posterior)': 'Shoulder',\n",
       " 'Erector Spinae': 'Back',\n",
       " 'Erector Spinae (Spinalis)': 'Back',\n",
       " 'Extensor Digitorum Longus': 'Leg',\n",
       " 'Extensor Hallucis Longus': 'Leg',\n",
       " 'External Obliques': 'Abdominal',\n",
       " 'Flexor Digitorum Longus': 'Leg',\n",
       " 'Flexor Hallucis Longus': 'Leg',\n",
       " 'Forearm muscles (Flexors and Extensors)': 'Arm',\n",
       " 'Gastrocnemius': 'Leg',\n",
       " 'Gastrocnemius (Lateral head)': 'Leg',\n",
       " 'Gastrocnemius (Medial head)': 'Leg',\n",
       " 'Gluteus Maximus': 'Leg',\n",
       " 'Gluteus Medius': 'Leg',\n",
       " 'Gluteus Minimus': 'Leg',\n",
       " 'Gracilis': 'Leg',\n",
       " 'Hamstrings (Biceps Femoris, Semitendinosus, Semimembranosus)': 'Leg',\n",
       " 'Hip Abductors': 'Leg',\n",
       " 'Hip Adductors': 'Leg',\n",
       " 'Hip Flexors': 'Leg',\n",
       " 'Iliopsoas': 'Leg',\n",
       " 'Infraspinatus': 'Shoulder',\n",
       " 'Internal Obliques': 'Abdominal',\n",
       " 'Internal and External Intercostals': 'Abdominal',\n",
       " 'Internal and External Obliques': 'Abdominal',\n",
       " 'Lateral Deltoid': 'Shoulder',\n",
       " 'Latissimus Dorsi': 'Back',\n",
       " 'Levator Scapulae': 'Back',\n",
       " 'Lower Back (Erector Spinae)': 'Back',\n",
       " 'Middle and Lower Trapezius': 'Back',\n",
       " 'Obliques': 'Abdominal',\n",
       " 'Pectoralis Major': 'Chest.',\n",
       " 'Pectoralis Major (Clavicular Head)': 'Chest',\n",
       " 'Pectoralis Major (Sternal Head)': 'Chest',\n",
       " 'Pectoralis Minor': 'Chest',\n",
       " 'Peroneals': 'Leg',\n",
       " 'Peroneus Brevis': 'Leg',\n",
       " 'Peroneus Longus': 'Leg',\n",
       " 'Peroneus Tertius': 'Leg',\n",
       " 'Plantaris': 'Leg',\n",
       " 'Popliteus': 'Leg',\n",
       " 'Posterior Deltoid': 'Shoulder',\n",
       " 'Quadratus Lumborum': 'Back',\n",
       " 'Quadriceps (Rectus Femoris, Vastus Lateralis, Vastus Medialis, Vastus Intermedius)': 'Leg',\n",
       " 'Rectus Abdominis': 'Abdominal',\n",
       " 'Rectus Femoris': 'Leg',\n",
       " 'Rhomboid Major': 'Back',\n",
       " 'Rhomboid Minor': 'Back',\n",
       " 'Rhomboids': 'Back',\n",
       " 'Sartorius': 'Leg',\n",
       " 'Semimembranosus': 'Leg',\n",
       " 'Semitendinosus': 'Leg',\n",
       " 'Serratus Anterior (Upper side of ribs)': 'Chest',\n",
       " 'Soleus': 'Leg',\n",
       " 'Subscapularis': 'Shoulder',\n",
       " 'Supraspinatus': 'Shoulder',\n",
       " 'Tensor Fasciae Latae': 'Leg',\n",
       " 'Teres Major': 'Back',\n",
       " 'Teres Minor': 'Shoulder',\n",
       " 'Tibialis Anterior': 'Leg',\n",
       " 'Transverse Abdominis': 'Abdominal',\n",
       " 'Trapezius': 'Back',\n",
       " 'Trapezius (lower fibers)': 'Back',\n",
       " 'Trapezius (middle and lower fibers)': 'Back',\n",
       " 'Triceps Brachii (Back of upper arm)': 'Arm',\n",
       " 'Triceps Brachii (Long Head)': 'Arm',\n",
       " 'Vastus Intermedius': 'Leg',\n",
       " 'Vastus Lateralis': 'Leg',\n",
       " 'Vastus Medialis': 'Leg'}"
      ]
     },
     "execution_count": 196,
     "metadata": {},
     "output_type": "execute_result"
    }
   ],
   "source": [
    "category"
   ]
  },
  {
   "cell_type": "code",
   "execution_count": 198,
   "metadata": {},
   "outputs": [],
   "source": [
    "# Convert and write JSON object to file\n",
    "with open(\"data/category.json\", \"w\") as outfile:\n",
    "    json.dump(category, outfile)"
   ]
  },
  {
   "cell_type": "code",
   "execution_count": 203,
   "metadata": {},
   "outputs": [],
   "source": [
    "with open(\"data/category.json\", \"r\") as f:\n",
    "  category = json.load(f)"
   ]
  },
  {
   "cell_type": "code",
   "execution_count": 204,
   "metadata": {},
   "outputs": [],
   "source": [
    "def reverseDict(dic, value):\n",
    "  v_list =[]\n",
    "  for key in dic:\n",
    "    if dic[key] == value:\n",
    "      v_list.append(key)\n",
    "  return v_list"
   ]
  },
  {
   "cell_type": "code",
   "execution_count": 205,
   "metadata": {},
   "outputs": [],
   "source": [
    "category_rev = dict()"
   ]
  },
  {
   "cell_type": "code",
   "execution_count": 206,
   "metadata": {},
   "outputs": [],
   "source": [
    "for c in category.values():\n",
    "  c_list = reverseDict(category, c)\n",
    "  category_rev[c] = c_list"
   ]
  },
  {
   "cell_type": "code",
   "execution_count": 207,
   "metadata": {},
   "outputs": [
    {
     "data": {
      "text/plain": [
       "{'Leg': ['Adductor Brevis',\n",
       "  'Adductor Longus',\n",
       "  'Adductor Magnus',\n",
       "  'Biceps Femoris',\n",
       "  'Calf Muscles',\n",
       "  'Calves (Gastrocnemius and Soleus)',\n",
       "  'Extensor Digitorum Longus',\n",
       "  'Extensor Hallucis Longus',\n",
       "  'Flexor Digitorum Longus',\n",
       "  'Flexor Hallucis Longus',\n",
       "  'Gastrocnemius',\n",
       "  'Gastrocnemius (Lateral head)',\n",
       "  'Gastrocnemius (Medial head)',\n",
       "  'Gluteus Maximus',\n",
       "  'Gluteus Medius',\n",
       "  'Gluteus Minimus',\n",
       "  'Gracilis',\n",
       "  'Hamstrings (Biceps Femoris, Semitendinosus, Semimembranosus)',\n",
       "  'Hip Abductors',\n",
       "  'Hip Adductors',\n",
       "  'Hip Flexors',\n",
       "  'Iliopsoas',\n",
       "  'Peroneals',\n",
       "  'Peroneus Brevis',\n",
       "  'Peroneus Longus',\n",
       "  'Peroneus Tertius',\n",
       "  'Plantaris',\n",
       "  'Popliteus',\n",
       "  'Quadriceps (Rectus Femoris, Vastus Lateralis, Vastus Medialis, Vastus Intermedius)',\n",
       "  'Rectus Femoris',\n",
       "  'Sartorius',\n",
       "  'Semimembranosus',\n",
       "  'Semitendinosus',\n",
       "  'Soleus',\n",
       "  'Tensor Fasciae Latae',\n",
       "  'Tibialis Anterior',\n",
       "  'Vastus Intermedius',\n",
       "  'Vastus Lateralis',\n",
       "  'Vastus Medialis'],\n",
       " 'Arm': ['Anconeus',\n",
       "  'Biceps Brachii',\n",
       "  'Brachialis',\n",
       "  'Brachioradialis',\n",
       "  'Coracobrachialis',\n",
       "  'Forearm muscles (Flexors and Extensors)',\n",
       "  'Triceps Brachii (Back of upper arm)',\n",
       "  'Triceps Brachii (Long Head)'],\n",
       " 'Shoulder': ['Anterior Deltoids (Front shoulder)',\n",
       "  'Deltoids (Anterior, Lateral, and Posterior)',\n",
       "  'Infraspinatus',\n",
       "  'Lateral Deltoid',\n",
       "  'Posterior Deltoid',\n",
       "  'Subscapularis',\n",
       "  'Supraspinatus',\n",
       "  'Teres Minor'],\n",
       " 'Back': ['Erector Spinae',\n",
       "  'Erector Spinae (Spinalis)',\n",
       "  'Latissimus Dorsi',\n",
       "  'Levator Scapulae',\n",
       "  'Lower Back (Erector Spinae)',\n",
       "  'Middle and Lower Trapezius',\n",
       "  'Quadratus Lumborum',\n",
       "  'Rhomboid Major',\n",
       "  'Rhomboid Minor',\n",
       "  'Rhomboids',\n",
       "  'Teres Major',\n",
       "  'Trapezius',\n",
       "  'Trapezius (lower fibers)',\n",
       "  'Trapezius (middle and lower fibers)'],\n",
       " 'Abdominal': ['External Obliques',\n",
       "  'Internal Obliques',\n",
       "  'Internal and External Intercostals',\n",
       "  'Internal and External Obliques',\n",
       "  'Obliques',\n",
       "  'Rectus Abdominis',\n",
       "  'Transverse Abdominis'],\n",
       " 'Chest': ['Pectoralis Major',\n",
       "  'Pectoralis Major (Clavicular Head)',\n",
       "  'Pectoralis Major (Sternal Head)',\n",
       "  'Pectoralis Minor',\n",
       "  'Serratus Anterior (Upper side of ribs)']}"
      ]
     },
     "execution_count": 207,
     "metadata": {},
     "output_type": "execute_result"
    }
   ],
   "source": [
    "category_rev"
   ]
  },
  {
   "cell_type": "code",
   "execution_count": 208,
   "metadata": {},
   "outputs": [],
   "source": [
    "with open(\"data/category_rev.json\", \"w\") as outfile:\n",
    "    json.dump(category_rev, outfile)"
   ]
  },
  {
   "cell_type": "markdown",
   "metadata": {},
   "source": [
    "Add categories to `muscle_dict_rep_add`"
   ]
  },
  {
   "cell_type": "code",
   "execution_count": 209,
   "metadata": {},
   "outputs": [],
   "source": [
    "muscle_dict_comple = muscle_dict_rep.copy()"
   ]
  },
  {
   "cell_type": "code",
   "execution_count": 210,
   "metadata": {},
   "outputs": [],
   "source": [
    "def addCategory(muscles):\n",
    "  add_list = []\n",
    "  for muscle in muscles:\n",
    "    if category[muscle] not in add_list:\n",
    "      add_list.append(category[muscle])\n",
    "  return add_list"
   ]
  },
  {
   "cell_type": "code",
   "execution_count": 211,
   "metadata": {},
   "outputs": [],
   "source": [
    "for key, muscles in muscle_dict_comple.items():\n",
    "  add_list = addCategory(muscles)\n",
    "  if add_list != []:\n",
    "    muscle_dict_comple[key] += add_list"
   ]
  },
  {
   "cell_type": "code",
   "execution_count": null,
   "metadata": {},
   "outputs": [],
   "source": [
    "muscle_dict_comple"
   ]
  },
  {
   "cell_type": "code",
   "execution_count": 213,
   "metadata": {},
   "outputs": [],
   "source": [
    "with open(\"data/muscle_dict_comple.json\", \"w\") as outfile:\n",
    "    json.dump(muscle_dict_comple, outfile)"
   ]
  },
  {
   "cell_type": "code",
   "execution_count": 214,
   "metadata": {},
   "outputs": [],
   "source": [
    "unique_items = list(set(item for sublist in muscle_dict_comple.values() for item in sublist))\n",
    "unique_items.sort()"
   ]
  },
  {
   "cell_type": "code",
   "execution_count": 216,
   "metadata": {},
   "outputs": [
    {
     "data": {
      "text/plain": [
       "87"
      ]
     },
     "execution_count": 216,
     "metadata": {},
     "output_type": "execute_result"
    }
   ],
   "source": [
    "len(unique_items)"
   ]
  },
  {
   "cell_type": "code",
   "execution_count": null,
   "metadata": {},
   "outputs": [],
   "source": [
    "unique_items"
   ]
  },
  {
   "cell_type": "markdown",
   "metadata": {},
   "source": [
    "## Translation\n",
    "EN -> TC"
   ]
  },
  {
   "cell_type": "code",
   "execution_count": 217,
   "metadata": {},
   "outputs": [],
   "source": [
    "traslate =\"\"\"\n",
    "You are a professional exercise physiologist, expertise in workout knowledge and human body muscle groups. \\\n",
    "Translate the following muscle group into TRADITIONAL Chinese (Taiwan). \\\n",
    "Exclude phonetic symbols. \\\n",
    "Simply provide the translated word. \\\n",
    "Example 1:\n",
    "Biceps\n",
    "二頭肌\n",
    "\n",
    "Example 2:\n",
    "Biceps Femoris\n",
    "股二頭肌\n",
    "\n",
    "Now, translate this muscle group:\n",
    "\"\"\""
   ]
  },
  {
   "cell_type": "code",
   "execution_count": 218,
   "metadata": {},
   "outputs": [
    {
     "data": {
      "text/plain": [
       "'Abdominal'"
      ]
     },
     "execution_count": 218,
     "metadata": {},
     "output_type": "execute_result"
    }
   ],
   "source": [
    "unique_items[0]"
   ]
  },
  {
   "cell_type": "code",
   "execution_count": 219,
   "metadata": {},
   "outputs": [],
   "source": [
    "test = chat(traslate, unique_items[0])"
   ]
  },
  {
   "cell_type": "code",
   "execution_count": 220,
   "metadata": {},
   "outputs": [
    {
     "data": {
      "text/plain": [
       "'腹肌'"
      ]
     },
     "execution_count": 220,
     "metadata": {},
     "output_type": "execute_result"
    }
   ],
   "source": [
    "test"
   ]
  },
  {
   "cell_type": "code",
   "execution_count": 221,
   "metadata": {},
   "outputs": [],
   "source": [
    "translate_dict = dict()\n",
    "# count = 0\n",
    "for name in unique_items:\n",
    "  # if count < 5:\n",
    "    # print(name)\n",
    "    translate_dict[chat(traslate, name)] = name\n",
    "    # count += 1"
   ]
  },
  {
   "cell_type": "code",
   "execution_count": 222,
   "metadata": {},
   "outputs": [
    {
     "data": {
      "text/plain": [
       "{'腹肌': 'Abdominal',\n",
       " '內收肌短肌': 'Adductor Brevis',\n",
       " '內收肌': 'Adductor Longus',\n",
       " '腹股沉肌': 'Adductor Magnus',\n",
       " '肘肌': 'Anconeus',\n",
       " '前三角肌': 'Anterior Deltoids (Front shoulder)',\n",
       " '手臂': 'Arm',\n",
       " '背肌': 'Back',\n",
       " '肱二頭肌': 'Biceps Brachii',\n",
       " '半腱肌': 'Semitendinosus',\n",
       " '上臂三頭肌': 'Brachialis',\n",
       " '肱桡肌': 'Brachioradialis',\n",
       " '腓腸肌': 'Peroneus Longus',\n",
       " '小腿肌肉 (腓腸肌和腓腸後肌)': 'Calves (Gastrocnemius and Soleus)',\n",
       " '胸肌': 'Pectoralis Major',\n",
       " '肩胛肌': 'Coracobrachialis',\n",
       " '三角肌（前束、外束、後束）': 'Deltoids (Anterior, Lateral, and Posterior)',\n",
       " '脊柱舉起肌': 'Erector Spinae',\n",
       " '脊柱起肌 (脊肌)': 'Erector Spinae (Spinalis)',\n",
       " '胫骨長趾伸肌': 'Extensor Digitorum Longus',\n",
       " '長趾伸肌': 'Extensor Hallucis Longus',\n",
       " '外腹斜肌': 'External Obliques',\n",
       " '足長屈肌': 'Flexor Digitorum Longus',\n",
       " '屈長跗肌': 'Flexor Hallucis Longus',\n",
       " '前臂肌肉 (屈肌和伸肌)': 'Forearm muscles (Flexors and Extensors)',\n",
       " '腓腓肌': 'Gastrocnemius',\n",
       " '腓腸肌 (外側頭)': 'Gastrocnemius (Lateral head)',\n",
       " '腓腸肌（內側）': 'Gastrocnemius (Medial head)',\n",
       " '臀大肌': 'Gluteus Maximus',\n",
       " '中殿肌': 'Gluteus Medius',\n",
       " '臀小肌': 'Gluteus Minimus',\n",
       " '長肌': 'Gracilis',\n",
       " '腿後肌群': 'Hamstrings (Biceps Femoris, Semitendinosus, Semimembranosus)',\n",
       " '臀部外展肌': 'Hip Abductors',\n",
       " '髖內收肌': 'Hip Adductors',\n",
       " '髖屈肌': 'Hip Flexors',\n",
       " '髂腰肌': 'Iliopsoas',\n",
       " '棘下肌': 'Infraspinatus',\n",
       " '內斜方肌': 'Internal Obliques',\n",
       " '肋間內外肌': 'Internal and External Intercostals',\n",
       " '內外斜肌': 'Internal and External Obliques',\n",
       " '中於肌': 'Lateral Deltoid',\n",
       " '背闊肌': 'Latissimus Dorsi',\n",
       " '腿': 'Leg',\n",
       " '舉肩肌': 'Levator Scapulae',\n",
       " '腰背肌 (起立脊肌)': 'Lower Back (Erector Spinae)',\n",
       " '中、下斜方肌': 'Middle and Lower Trapezius',\n",
       " '腹斜肌': 'Obliques',\n",
       " '胸大肌': 'Pectoralis Major (Clavicular Head)',\n",
       " '胸大肌 (胸骨部分)': 'Pectoralis Major (Sternal Head)',\n",
       " '腋窩肌': 'Pectoralis Minor',\n",
       " '腓骨短肌': 'Peroneus Brevis',\n",
       " '外踝肌': 'Peroneus Tertius',\n",
       " '腓骨筋': 'Plantaris',\n",
       " '膝半腱肌': 'Popliteus',\n",
       " '後三角肌': 'Posterior Deltoid',\n",
       " '腰方肌': 'Quadratus Lumborum',\n",
       " 'Quadriceps (Rectus Femoris, Vastus Lateralis, Vastus Medialis, Vastus Intermedius)\\n股四頭肌 (直肌、外側肌、內側肌、中間肌)': 'Quadriceps (Rectus Femoris, Vastus Lateralis, Vastus Medialis, Vastus Intermedius)',\n",
       " '腹直肌': 'Rectus Abdominis',\n",
       " '直肌': 'Rectus Femoris',\n",
       " '菱形肌': 'Rhomboids',\n",
       " '斜方肌小束': 'Rhomboid Minor',\n",
       " '缝匠肌': 'Sartorius',\n",
       " '薄膜半腱肌': 'Semimembranosus',\n",
       " '前鋸肌': 'Serratus Anterior (Upper side of ribs)',\n",
       " '肩部': 'Shoulder',\n",
       " '比目魚肌': 'Soleus',\n",
       " '肩胛下肌': 'Subscapularis',\n",
       " '超肩胛肌': 'Supraspinatus',\n",
       " '湧泉肌': 'Tensor Fasciae Latae',\n",
       " '肩胛小肌': 'Teres Major',\n",
       " '肩小圓肌': 'Teres Minor',\n",
       " '胫骨前肌': 'Tibialis Anterior',\n",
       " '橫腹肌': 'Transverse Abdominis',\n",
       " '斜方肌': 'Trapezius',\n",
       " '伸肩肌下束': 'Trapezius (lower fibers)',\n",
       " '斜方肌 (中部和下部纖維)': 'Trapezius (middle and lower fibers)',\n",
       " '三頭肌（上臂後方）': 'Triceps Brachii (Back of upper arm)',\n",
       " '肱三頭肌（長頭）': 'Triceps Brachii (Long Head)',\n",
       " '廣隔肌': 'Vastus Intermedius',\n",
       " '外側廣闊肌': 'Vastus Lateralis',\n",
       " '內側肌': 'Vastus Medialis'}"
      ]
     },
     "execution_count": 222,
     "metadata": {},
     "output_type": "execute_result"
    }
   ],
   "source": [
    "translate_dict"
   ]
  },
  {
   "cell_type": "code",
   "execution_count": 223,
   "metadata": {},
   "outputs": [],
   "source": [
    "with open(\"data/translate_dict.json\", \"w\") as outfile:\n",
    "    json.dump(translate_dict, outfile)"
   ]
  },
  {
   "cell_type": "markdown",
   "metadata": {},
   "source": [
    "# Update\n",
    "Update muscle_groups info"
   ]
  },
  {
   "cell_type": "code",
   "execution_count": 143,
   "metadata": {},
   "outputs": [],
   "source": [
    "equipment[\"muscle_groups\"] = muscle_dict_comple"
   ]
  },
  {
   "cell_type": "code",
   "execution_count": 149,
   "metadata": {},
   "outputs": [
    {
     "data": {
      "text/html": [
       "<div>\n",
       "<style scoped>\n",
       "    .dataframe tbody tr th:only-of-type {\n",
       "        vertical-align: middle;\n",
       "    }\n",
       "\n",
       "    .dataframe tbody tr th {\n",
       "        vertical-align: top;\n",
       "    }\n",
       "\n",
       "    .dataframe thead th {\n",
       "        text-align: right;\n",
       "    }\n",
       "</style>\n",
       "<table border=\"1\" class=\"dataframe\">\n",
       "  <thead>\n",
       "    <tr style=\"text-align: right;\">\n",
       "      <th></th>\n",
       "      <th>id</th>\n",
       "      <th>equipment</th>\n",
       "      <th>number</th>\n",
       "      <th>capacity</th>\n",
       "      <th>muscle_groups</th>\n",
       "      <th>remark</th>\n",
       "    </tr>\n",
       "  </thead>\n",
       "  <tbody>\n",
       "    <tr>\n",
       "      <th>0</th>\n",
       "      <td>0</td>\n",
       "      <td>treadmill</td>\n",
       "      <td>9</td>\n",
       "      <td>1</td>\n",
       "      <td>[Quadriceps, Hamstrings, Gluteus Maximus, Gast...</td>\n",
       "      <td>NaN</td>\n",
       "    </tr>\n",
       "    <tr>\n",
       "      <th>1</th>\n",
       "      <td>1</td>\n",
       "      <td>rowing machine</td>\n",
       "      <td>4</td>\n",
       "      <td>1</td>\n",
       "      <td>[Quadriceps, Hamstrings, Gluteus Maximus, Erec...</td>\n",
       "      <td>NaN</td>\n",
       "    </tr>\n",
       "    <tr>\n",
       "      <th>2</th>\n",
       "      <td>2</td>\n",
       "      <td>upright bike</td>\n",
       "      <td>2</td>\n",
       "      <td>1</td>\n",
       "      <td>[Quadriceps, Gluteus Maximus, Hamstrings, Gast...</td>\n",
       "      <td>NaN</td>\n",
       "    </tr>\n",
       "    <tr>\n",
       "      <th>3</th>\n",
       "      <td>3</td>\n",
       "      <td>elliptical machine</td>\n",
       "      <td>3</td>\n",
       "      <td>1</td>\n",
       "      <td>[Gluteus Maximus, Quadriceps, Hamstrings, Calv...</td>\n",
       "      <td>NaN</td>\n",
       "    </tr>\n",
       "    <tr>\n",
       "      <th>4</th>\n",
       "      <td>4</td>\n",
       "      <td>bench</td>\n",
       "      <td>7</td>\n",
       "      <td>1</td>\n",
       "      <td>[Quadriceps, Hamstrings, Gluteus Maximus, Erec...</td>\n",
       "      <td>NaN</td>\n",
       "    </tr>\n",
       "    <tr>\n",
       "      <th>5</th>\n",
       "      <td>5</td>\n",
       "      <td>squat machine</td>\n",
       "      <td>1</td>\n",
       "      <td>1</td>\n",
       "      <td>[Quadriceps, Gluteus Maximus, Hamstrings, Erec...</td>\n",
       "      <td>NaN</td>\n",
       "    </tr>\n",
       "    <tr>\n",
       "      <th>6</th>\n",
       "      <td>6</td>\n",
       "      <td>leg press and hack squat machine</td>\n",
       "      <td>1</td>\n",
       "      <td>1</td>\n",
       "      <td>[Quadriceps, Gluteus Maximus, Hamstrings, Gast...</td>\n",
       "      <td>NaN</td>\n",
       "    </tr>\n",
       "    <tr>\n",
       "      <th>7</th>\n",
       "      <td>7</td>\n",
       "      <td>standing calf</td>\n",
       "      <td>1</td>\n",
       "      <td>1</td>\n",
       "      <td>[Gastrocnemius, Soleus, Now, given equipment, ...</td>\n",
       "      <td>NaN</td>\n",
       "    </tr>\n",
       "    <tr>\n",
       "      <th>8</th>\n",
       "      <td>8</td>\n",
       "      <td>abdominal machine</td>\n",
       "      <td>1</td>\n",
       "      <td>1</td>\n",
       "      <td>[Rectus Abdominis, Transversus Abdominis, Exte...</td>\n",
       "      <td>NaN</td>\n",
       "    </tr>\n",
       "    <tr>\n",
       "      <th>9</th>\n",
       "      <td>9</td>\n",
       "      <td>spin machine</td>\n",
       "      <td>5</td>\n",
       "      <td>1</td>\n",
       "      <td>[Quadriceps, Hamstrings, Gluteus Maximus, Gast...</td>\n",
       "      <td>NaN</td>\n",
       "    </tr>\n",
       "    <tr>\n",
       "      <th>10</th>\n",
       "      <td>10</td>\n",
       "      <td>biceps curl</td>\n",
       "      <td>1</td>\n",
       "      <td>1</td>\n",
       "      <td>[Biceps Brachii, Brachialis, Brachioradialis, ...</td>\n",
       "      <td>NaN</td>\n",
       "    </tr>\n",
       "    <tr>\n",
       "      <th>11</th>\n",
       "      <td>11</td>\n",
       "      <td>rear delt/pec fly</td>\n",
       "      <td>2</td>\n",
       "      <td>1</td>\n",
       "      <td>[Pectoralis Major, Deltoid (Posterior)]</td>\n",
       "      <td>NaN</td>\n",
       "    </tr>\n",
       "    <tr>\n",
       "      <th>12</th>\n",
       "      <td>12</td>\n",
       "      <td>multi press machine</td>\n",
       "      <td>1</td>\n",
       "      <td>1</td>\n",
       "      <td>[Quadriceps, Gluteus Maximus, Hamstrings, Gast...</td>\n",
       "      <td>NaN</td>\n",
       "    </tr>\n",
       "    <tr>\n",
       "      <th>13</th>\n",
       "      <td>13</td>\n",
       "      <td>inner/outer thigh</td>\n",
       "      <td>2</td>\n",
       "      <td>1</td>\n",
       "      <td>[Adductor Magnus, Gracilis]</td>\n",
       "      <td>NaN</td>\n",
       "    </tr>\n",
       "    <tr>\n",
       "      <th>14</th>\n",
       "      <td>14</td>\n",
       "      <td>leg press/calf extension</td>\n",
       "      <td>1</td>\n",
       "      <td>1</td>\n",
       "      <td>[Quadriceps, Gluteus Maximus, Hamstrings, Gast...</td>\n",
       "      <td>NaN</td>\n",
       "    </tr>\n",
       "    <tr>\n",
       "      <th>15</th>\n",
       "      <td>15</td>\n",
       "      <td>lying leg curl</td>\n",
       "      <td>1</td>\n",
       "      <td>1</td>\n",
       "      <td>[Hamstrings, Biceps Femoris, Semitendinosus, S...</td>\n",
       "      <td>NaN</td>\n",
       "    </tr>\n",
       "    <tr>\n",
       "      <th>16</th>\n",
       "      <td>16</td>\n",
       "      <td>pulldown/seated row</td>\n",
       "      <td>1</td>\n",
       "      <td>1</td>\n",
       "      <td>[Latissimus Dorsi, Rhomboids, Trapezius, Serra...</td>\n",
       "      <td>NaN</td>\n",
       "    </tr>\n",
       "    <tr>\n",
       "      <th>17</th>\n",
       "      <td>17</td>\n",
       "      <td>functional trainer</td>\n",
       "      <td>2</td>\n",
       "      <td>2</td>\n",
       "      <td>[Latissimus Dorsi, Trapezius, Rhomboids, Delto...</td>\n",
       "      <td>NaN</td>\n",
       "    </tr>\n",
       "    <tr>\n",
       "      <th>18</th>\n",
       "      <td>18</td>\n",
       "      <td>olympic bench</td>\n",
       "      <td>3</td>\n",
       "      <td>1</td>\n",
       "      <td>[Pectoralis Major, Deltoids, Triceps Brachii, ...</td>\n",
       "      <td>NaN</td>\n",
       "    </tr>\n",
       "    <tr>\n",
       "      <th>19</th>\n",
       "      <td>19</td>\n",
       "      <td>preacher curl slate</td>\n",
       "      <td>1</td>\n",
       "      <td>1</td>\n",
       "      <td>[Biceps Brachii, Brachialis, Brachioradialis, ...</td>\n",
       "      <td>NaN</td>\n",
       "    </tr>\n",
       "    <tr>\n",
       "      <th>20</th>\n",
       "      <td>20</td>\n",
       "      <td>leg extension</td>\n",
       "      <td>1</td>\n",
       "      <td>1</td>\n",
       "      <td>[Quadriceps, Rectus Femoris, Vastus Lateralis,...</td>\n",
       "      <td>NaN</td>\n",
       "    </tr>\n",
       "    <tr>\n",
       "      <th>21</th>\n",
       "      <td>21</td>\n",
       "      <td>leg curl</td>\n",
       "      <td>1</td>\n",
       "      <td>1</td>\n",
       "      <td>[Hamstrings, Biceps Femoris, Semitendinosus, S...</td>\n",
       "      <td>NaN</td>\n",
       "    </tr>\n",
       "    <tr>\n",
       "      <th>22</th>\n",
       "      <td>22</td>\n",
       "      <td>rotary torso</td>\n",
       "      <td>1</td>\n",
       "      <td>1</td>\n",
       "      <td>[Obliques, Rectus Abdominis, Erector Spinae, M...</td>\n",
       "      <td>NaN</td>\n",
       "    </tr>\n",
       "    <tr>\n",
       "      <th>23</th>\n",
       "      <td>23</td>\n",
       "      <td>triceps extension</td>\n",
       "      <td>1</td>\n",
       "      <td>1</td>\n",
       "      <td>[Triceps Brachii, Anconeus, Next equipment:, b...</td>\n",
       "      <td>NaN</td>\n",
       "    </tr>\n",
       "    <tr>\n",
       "      <th>24</th>\n",
       "      <td>24</td>\n",
       "      <td>lateral raise</td>\n",
       "      <td>1</td>\n",
       "      <td>1</td>\n",
       "      <td>[Deltoids (Anterior, Lateral, Posterior), Supr...</td>\n",
       "      <td>NaN</td>\n",
       "    </tr>\n",
       "    <tr>\n",
       "      <th>25</th>\n",
       "      <td>25</td>\n",
       "      <td>lat pulldown</td>\n",
       "      <td>1</td>\n",
       "      <td>1</td>\n",
       "      <td>[Latissimus Dorsi, Trapezius, Rhomboids, Levat...</td>\n",
       "      <td>NaN</td>\n",
       "    </tr>\n",
       "    <tr>\n",
       "      <th>26</th>\n",
       "      <td>26</td>\n",
       "      <td>shoulder press</td>\n",
       "      <td>2</td>\n",
       "      <td>1</td>\n",
       "      <td>[Deltoids (shoulder muscles), Trapezius, Trice...</td>\n",
       "      <td>NaN</td>\n",
       "    </tr>\n",
       "    <tr>\n",
       "      <th>27</th>\n",
       "      <td>27</td>\n",
       "      <td>booty builder 7</td>\n",
       "      <td>1</td>\n",
       "      <td>1</td>\n",
       "      <td>[Gluteus Maximus, Erector Spinae, Hamstrings, ...</td>\n",
       "      <td>NaN</td>\n",
       "    </tr>\n",
       "    <tr>\n",
       "      <th>28</th>\n",
       "      <td>28</td>\n",
       "      <td>multi-purpose squat rack</td>\n",
       "      <td>4</td>\n",
       "      <td>1</td>\n",
       "      <td>[Quadriceps, Hamstrings, Gluteus Maximus, Erec...</td>\n",
       "      <td>NaN</td>\n",
       "    </tr>\n",
       "    <tr>\n",
       "      <th>29</th>\n",
       "      <td>29</td>\n",
       "      <td>large dumbbell rack</td>\n",
       "      <td>2</td>\n",
       "      <td>6</td>\n",
       "      <td>[Quadriceps, Gluteus Maximus, Hamstrings, Calv...</td>\n",
       "      <td>NaN</td>\n",
       "    </tr>\n",
       "    <tr>\n",
       "      <th>30</th>\n",
       "      <td>30</td>\n",
       "      <td>vertical dumbbell rack</td>\n",
       "      <td>1</td>\n",
       "      <td>5</td>\n",
       "      <td>[Quadriceps, Hamstrings, Gluteus Maximus, Erec...</td>\n",
       "      <td>NaN</td>\n",
       "    </tr>\n",
       "    <tr>\n",
       "      <th>31</th>\n",
       "      <td>31</td>\n",
       "      <td>free standing space saving modular rig</td>\n",
       "      <td>1</td>\n",
       "      <td>3</td>\n",
       "      <td>[Quadriceps, Hamstrings, Gluteus Maximus, Erec...</td>\n",
       "      <td>NaN</td>\n",
       "    </tr>\n",
       "    <tr>\n",
       "      <th>32</th>\n",
       "      <td>32</td>\n",
       "      <td>precor multu gym s3.45-upper body</td>\n",
       "      <td>1</td>\n",
       "      <td>1</td>\n",
       "      <td>[Latissimus Dorsi, Rhomboids, Trapezius, Delto...</td>\n",
       "      <td>can do: lat pull-downs, seated rows, bicep cur...</td>\n",
       "    </tr>\n",
       "    <tr>\n",
       "      <th>33</th>\n",
       "      <td>33</td>\n",
       "      <td>precor multu gym s3.45-lower body</td>\n",
       "      <td>1</td>\n",
       "      <td>1</td>\n",
       "      <td>[Quadriceps, Hamstrings, Gluteus Maximus, Erec...</td>\n",
       "      <td>can do:leg extension, leg press</td>\n",
       "    </tr>\n",
       "    <tr>\n",
       "      <th>34</th>\n",
       "      <td>34</td>\n",
       "      <td>precor multu gym s3.45-back and core</td>\n",
       "      <td>1</td>\n",
       "      <td>1</td>\n",
       "      <td>[Erector Spinae, Gluteus Maximus, Hamstrings, ...</td>\n",
       "      <td>can do: preacher curl / roman chair</td>\n",
       "    </tr>\n",
       "    <tr>\n",
       "      <th>35</th>\n",
       "      <td>35</td>\n",
       "      <td>chin/dip assist</td>\n",
       "      <td>1</td>\n",
       "      <td>1</td>\n",
       "      <td>[Latissimus Dorsi, Biceps Brachii, Rhomboids, ...</td>\n",
       "      <td>NaN</td>\n",
       "    </tr>\n",
       "    <tr>\n",
       "      <th>36</th>\n",
       "      <td>36</td>\n",
       "      <td>incline chest press</td>\n",
       "      <td>3</td>\n",
       "      <td>1</td>\n",
       "      <td>[Pectoralis Major (upper chest), Anterior Delt...</td>\n",
       "      <td>NaN</td>\n",
       "    </tr>\n",
       "    <tr>\n",
       "      <th>37</th>\n",
       "      <td>37</td>\n",
       "      <td>seated row</td>\n",
       "      <td>1</td>\n",
       "      <td>1</td>\n",
       "      <td>[Latissimus Dorsi, Rhomboids, Trapezius, Infra...</td>\n",
       "      <td>NaN</td>\n",
       "    </tr>\n",
       "    <tr>\n",
       "      <th>38</th>\n",
       "      <td>38</td>\n",
       "      <td>incline lever row</td>\n",
       "      <td>1</td>\n",
       "      <td>1</td>\n",
       "      <td>[Latissimus Dorsi, Trapezius, Rhomboids, Levat...</td>\n",
       "      <td>NaN</td>\n",
       "    </tr>\n",
       "    <tr>\n",
       "      <th>39</th>\n",
       "      <td>39</td>\n",
       "      <td>puzzle mat</td>\n",
       "      <td>8</td>\n",
       "      <td>1</td>\n",
       "      <td>[Quadriceps, Hamstrings, Gluteus Maximus, Gast...</td>\n",
       "      <td>NaN</td>\n",
       "    </tr>\n",
       "    <tr>\n",
       "      <th>40</th>\n",
       "      <td>40</td>\n",
       "      <td>barbell lifter</td>\n",
       "      <td>2</td>\n",
       "      <td>1</td>\n",
       "      <td>[Quadriceps, Hamstrings, Gluteus Maximus, Erec...</td>\n",
       "      <td>NaN</td>\n",
       "    </tr>\n",
       "  </tbody>\n",
       "</table>\n",
       "</div>"
      ],
      "text/plain": [
       "    id                               equipment  number  capacity  \\\n",
       "0    0                               treadmill       9         1   \n",
       "1    1                          rowing machine       4         1   \n",
       "2    2                            upright bike       2         1   \n",
       "3    3                      elliptical machine       3         1   \n",
       "4    4                                   bench       7         1   \n",
       "5    5                           squat machine       1         1   \n",
       "6    6        leg press and hack squat machine       1         1   \n",
       "7    7                           standing calf       1         1   \n",
       "8    8                       abdominal machine       1         1   \n",
       "9    9                            spin machine       5         1   \n",
       "10  10                             biceps curl       1         1   \n",
       "11  11                       rear delt/pec fly       2         1   \n",
       "12  12                     multi press machine       1         1   \n",
       "13  13                       inner/outer thigh       2         1   \n",
       "14  14                leg press/calf extension       1         1   \n",
       "15  15                          lying leg curl       1         1   \n",
       "16  16                     pulldown/seated row       1         1   \n",
       "17  17                      functional trainer       2         2   \n",
       "18  18                           olympic bench       3         1   \n",
       "19  19                     preacher curl slate       1         1   \n",
       "20  20                           leg extension       1         1   \n",
       "21  21                                leg curl       1         1   \n",
       "22  22                            rotary torso       1         1   \n",
       "23  23                       triceps extension       1         1   \n",
       "24  24                           lateral raise       1         1   \n",
       "25  25                            lat pulldown       1         1   \n",
       "26  26                          shoulder press       2         1   \n",
       "27  27                         booty builder 7       1         1   \n",
       "28  28                multi-purpose squat rack       4         1   \n",
       "29  29                     large dumbbell rack       2         6   \n",
       "30  30                  vertical dumbbell rack       1         5   \n",
       "31  31  free standing space saving modular rig       1         3   \n",
       "32  32       precor multu gym s3.45-upper body       1         1   \n",
       "33  33       precor multu gym s3.45-lower body       1         1   \n",
       "34  34    precor multu gym s3.45-back and core       1         1   \n",
       "35  35                         chin/dip assist       1         1   \n",
       "36  36                     incline chest press       3         1   \n",
       "37  37                              seated row       1         1   \n",
       "38  38                       incline lever row       1         1   \n",
       "39  39                              puzzle mat       8         1   \n",
       "40  40                          barbell lifter       2         1   \n",
       "\n",
       "                                        muscle_groups  \\\n",
       "0   [Quadriceps, Hamstrings, Gluteus Maximus, Gast...   \n",
       "1   [Quadriceps, Hamstrings, Gluteus Maximus, Erec...   \n",
       "2   [Quadriceps, Gluteus Maximus, Hamstrings, Gast...   \n",
       "3   [Gluteus Maximus, Quadriceps, Hamstrings, Calv...   \n",
       "4   [Quadriceps, Hamstrings, Gluteus Maximus, Erec...   \n",
       "5   [Quadriceps, Gluteus Maximus, Hamstrings, Erec...   \n",
       "6   [Quadriceps, Gluteus Maximus, Hamstrings, Gast...   \n",
       "7   [Gastrocnemius, Soleus, Now, given equipment, ...   \n",
       "8   [Rectus Abdominis, Transversus Abdominis, Exte...   \n",
       "9   [Quadriceps, Hamstrings, Gluteus Maximus, Gast...   \n",
       "10  [Biceps Brachii, Brachialis, Brachioradialis, ...   \n",
       "11            [Pectoralis Major, Deltoid (Posterior)]   \n",
       "12  [Quadriceps, Gluteus Maximus, Hamstrings, Gast...   \n",
       "13                        [Adductor Magnus, Gracilis]   \n",
       "14  [Quadriceps, Gluteus Maximus, Hamstrings, Gast...   \n",
       "15  [Hamstrings, Biceps Femoris, Semitendinosus, S...   \n",
       "16  [Latissimus Dorsi, Rhomboids, Trapezius, Serra...   \n",
       "17  [Latissimus Dorsi, Trapezius, Rhomboids, Delto...   \n",
       "18  [Pectoralis Major, Deltoids, Triceps Brachii, ...   \n",
       "19  [Biceps Brachii, Brachialis, Brachioradialis, ...   \n",
       "20  [Quadriceps, Rectus Femoris, Vastus Lateralis,...   \n",
       "21  [Hamstrings, Biceps Femoris, Semitendinosus, S...   \n",
       "22  [Obliques, Rectus Abdominis, Erector Spinae, M...   \n",
       "23  [Triceps Brachii, Anconeus, Next equipment:, b...   \n",
       "24  [Deltoids (Anterior, Lateral, Posterior), Supr...   \n",
       "25  [Latissimus Dorsi, Trapezius, Rhomboids, Levat...   \n",
       "26  [Deltoids (shoulder muscles), Trapezius, Trice...   \n",
       "27  [Gluteus Maximus, Erector Spinae, Hamstrings, ...   \n",
       "28  [Quadriceps, Hamstrings, Gluteus Maximus, Erec...   \n",
       "29  [Quadriceps, Gluteus Maximus, Hamstrings, Calv...   \n",
       "30  [Quadriceps, Hamstrings, Gluteus Maximus, Erec...   \n",
       "31  [Quadriceps, Hamstrings, Gluteus Maximus, Erec...   \n",
       "32  [Latissimus Dorsi, Rhomboids, Trapezius, Delto...   \n",
       "33  [Quadriceps, Hamstrings, Gluteus Maximus, Erec...   \n",
       "34  [Erector Spinae, Gluteus Maximus, Hamstrings, ...   \n",
       "35  [Latissimus Dorsi, Biceps Brachii, Rhomboids, ...   \n",
       "36  [Pectoralis Major (upper chest), Anterior Delt...   \n",
       "37  [Latissimus Dorsi, Rhomboids, Trapezius, Infra...   \n",
       "38  [Latissimus Dorsi, Trapezius, Rhomboids, Levat...   \n",
       "39  [Quadriceps, Hamstrings, Gluteus Maximus, Gast...   \n",
       "40  [Quadriceps, Hamstrings, Gluteus Maximus, Erec...   \n",
       "\n",
       "                                               remark  \n",
       "0                                                 NaN  \n",
       "1                                                 NaN  \n",
       "2                                                 NaN  \n",
       "3                                                 NaN  \n",
       "4                                                 NaN  \n",
       "5                                                 NaN  \n",
       "6                                                 NaN  \n",
       "7                                                 NaN  \n",
       "8                                                 NaN  \n",
       "9                                                 NaN  \n",
       "10                                                NaN  \n",
       "11                                                NaN  \n",
       "12                                                NaN  \n",
       "13                                                NaN  \n",
       "14                                                NaN  \n",
       "15                                                NaN  \n",
       "16                                                NaN  \n",
       "17                                                NaN  \n",
       "18                                                NaN  \n",
       "19                                                NaN  \n",
       "20                                                NaN  \n",
       "21                                                NaN  \n",
       "22                                                NaN  \n",
       "23                                                NaN  \n",
       "24                                                NaN  \n",
       "25                                                NaN  \n",
       "26                                                NaN  \n",
       "27                                                NaN  \n",
       "28                                                NaN  \n",
       "29                                                NaN  \n",
       "30                                                NaN  \n",
       "31                                                NaN  \n",
       "32  can do: lat pull-downs, seated rows, bicep cur...  \n",
       "33                    can do:leg extension, leg press  \n",
       "34                can do: preacher curl / roman chair  \n",
       "35                                                NaN  \n",
       "36                                                NaN  \n",
       "37                                                NaN  \n",
       "38                                                NaN  \n",
       "39                                                NaN  \n",
       "40                                                NaN  "
      ]
     },
     "execution_count": 149,
     "metadata": {},
     "output_type": "execute_result"
    }
   ],
   "source": [
    "equipment"
   ]
  },
  {
   "cell_type": "code",
   "execution_count": 148,
   "metadata": {},
   "outputs": [
    {
     "data": {
      "text/plain": [
       "list"
      ]
     },
     "execution_count": 148,
     "metadata": {},
     "output_type": "execute_result"
    }
   ],
   "source": [
    "type(equipment.loc[:, \"muscle_groups\"][0])"
   ]
  }
 ],
 "metadata": {
  "kernelspec": {
   "display_name": "Python 3",
   "language": "python",
   "name": "python3"
  },
  "language_info": {
   "codemirror_mode": {
    "name": "ipython",
    "version": 3
   },
   "file_extension": ".py",
   "mimetype": "text/x-python",
   "name": "python",
   "nbconvert_exporter": "python",
   "pygments_lexer": "ipython3",
   "version": "3.11.6"
  }
 },
 "nbformat": 4,
 "nbformat_minor": 2
}
